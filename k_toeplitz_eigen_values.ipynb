{
 "cells": [
  {
   "cell_type": "code",
   "execution_count": 1,
   "id": "7ba0a5c5",
   "metadata": {},
   "outputs": [],
   "source": [
    "import numpy as np\n",
    "import scipy.linalg as sc\n",
    "import matplotlib.pyplot as plt\n",
    "import cmath"
   ]
  },
  {
   "cell_type": "code",
   "execution_count": 2,
   "id": "079f76fe",
   "metadata": {},
   "outputs": [],
   "source": [
    "def k_toeplitz_matrix(diag_k,u_k,l_k,t):\n",
    "  #creating the k-toeplitz matriX\n",
    "  #k - chain length\n",
    "  #one chain of diagonal -diag_k\n",
    "  k=np.size(diag_k)\n",
    "  n=int(k*t)\n",
    "  diag=[]\n",
    "\n",
    "  for i in range(t):\n",
    "    diag=np.concatenate((diag,diag_k))\n",
    "\n",
    "  A=np.diag(diag)  #k_toeplitz matrix we want to create\n",
    "\n",
    "# creating upper diagonal entries\n",
    "\n",
    "  upper_diag=[]\n",
    "  for i in range(t):\n",
    "    upper_diag=np.concatenate((upper_diag,u_k))\n",
    "  upper_diag=upper_diag[:n-1]\n",
    "\n",
    "# creating lower diagonal entries\n",
    "\n",
    "  lower_diag=[]\n",
    "  for i in range(t):\n",
    "    lower_diag=np.concatenate((lower_diag,l_k))\n",
    "  lower_diag=lower_diag[:n-1]\n",
    "\n",
    "#FILLING UPPER DIAGONAL\n",
    "\n",
    "  for i in range(n-1):\n",
    "    A[i][i+1]=upper_diag[i]\n",
    "\n",
    "#FILLING LOWER DIAGONAL\n",
    "\n",
    "  for i in range(n-1):\n",
    "    A[i+1][i]=lower_diag[i]\n",
    "\n",
    "  return(A)\n",
    "  "
   ]
  },
  {
   "cell_type": "code",
   "execution_count": 3,
   "id": "66ad99c3",
   "metadata": {},
   "outputs": [],
   "source": [
    "def qgamma(diag_k,u_k,l_k,k):    #to find gamma  and  Qk(z)\n",
    "  a=diag_k\n",
    "  p=np.multiply(u_k,l_k)\n",
    "  Aim11 =1\n",
    "  Aim12 =0\n",
    "  Aim13 =0\n",
    "  Aim14 =1\n",
    "  for i in range(k):\n",
    "    Ai1 = [1,a[i]]\n",
    "    Ai2 = [0,-p[i]]\n",
    "    Ai3 = [0,1]\n",
    "    Ai4 =  [0,0]\n",
    "    P1 = np.convolve(Aim11,Ai1) +np.convolve(Aim12,Ai3)\n",
    "    P2 = np.convolve(Aim11,Ai2) +np.convolve(Aim12,Ai4)\n",
    "    P3 = np.convolve(Aim13,Ai1) +np.convolve(Aim14,Ai3)\n",
    "    P4 = np.convolve(Aim13,Ai2) +np.convolve(Aim14,Ai4)\n",
    "    Aim11 = P1\n",
    "    Aim12 = P2\n",
    "    Aim13 = P3\n",
    "    Aim14 = P4\n",
    "    #print(P1,P2,P3,P4)\n",
    "    \n",
    "  q=P1+P4  #trace of Uk\n",
    "  gamma1=-np.prod(p)  #gamma1 is the negative of the determinant of Uk\n",
    "  P4=np.array(P4)\n",
    "  return(q,gamma1)"
   ]
  },
  {
   "cell_type": "code",
   "execution_count": 4,
   "id": "f8cd3444",
   "metadata": {},
   "outputs": [],
   "source": [
    "def chebeig(diag_k,u_k,l_k,k,t):      \n",
    "  n=int(k*t)\n",
    "  q,g=qgamma(diag_k,u_k,l_k,k)\n",
    "  #print(diag_k)\n",
    "  q=np.array(q,dtype=\"complex\")\n",
    "  #print(q,g)\n",
    "  tnroots=np.zeros(int(n/k),dtype=complex)\n",
    "  for l in range(1,int(n/k)+1):\n",
    "    tnroots[l-1]=1j*2*np.cos(np.pi/((n/k)+1)*(l))\n",
    "  #print(tnroots)\n",
    "  zcheb = []  #upto this fine\n",
    "  c0=q[k]\n",
    "  for i in range(int(n/k)):\n",
    "    q[k]=c0+((cmath.sqrt(g))*tnroots[i])\n",
    "    \n",
    "    zcheb=np.concatenate((zcheb,-np.roots(q)))  \n",
    "  #print(g)\n",
    "  print(np.shape(zcheb))\n",
    "  return(zcheb)"
   ]
  },
  {
   "cell_type": "code",
   "execution_count": 5,
   "id": "135461e0",
   "metadata": {},
   "outputs": [
    {
     "name": "stdout",
     "output_type": "stream",
     "text": [
      "number of chains to be repeated=  12\n",
      "(36,)\n"
     ]
    },
    {
     "data": {
      "image/png": "[encoded data removed]",
      "text/plain": [
       "<Figure size 432x288 with 1 Axes>"
      ]
     },
     "metadata": {
      "needs_background": "light"
     },
     "output_type": "display_data"
    }
   ],
   "source": [
    "n=int(input(\"number of chains to be repeated=  \"))\n",
    "\n",
    "diag_k=np.loadtxt(\"diag_entries.txt\")   #diagonal entries\n",
    "u_k=np.loadtxt(\"upper_diag.txt\")        #upper diagonal\n",
    "l_k=(np.loadtxt(\"lower_diag.txt\"))        #lower diagonal\n",
    "A=k_toeplitz_matrix(diag_k,u_k,l_k,n)\n",
    "k=len(diag_k)\n",
    "  \n",
    "result=sc.eig(A)\n",
    "e1=result[0]  #eigen values by python inbuilt function\n",
    "\n",
    "zcheb1=chebeig(diag_k,u_k,l_k,k,n)        #eigen values of the matrix is approximated to chebyshev polynomials\n",
    "plt.plot(e1.real,e1.imag,\"*\",color=\"red\",label=\"python inbuilt function\") \n",
    "plt.plot(zcheb1.real,zcheb1.imag,\"*\",color=\"green\",label=\"zcheb approx\")\n",
    "plt.legend()\n",
    "plt.title(\"eigen values of k-toeplitz matrix\")\n",
    "plt.xlabel(\"real part of eigen value\")\n",
    "plt.ylabel(\"imaginary part of eigen value\")\n",
    "plt.show()"
   ]
  }
 ],
 "metadata": {
  "kernelspec": {
   "display_name": "Python 3",
   "language": "python",
   "name": "python3"
  },
  "language_info": {
   "codemirror_mode": {
    "name": "ipython",
    "version": 3
   },
   "file_extension": ".py",
   "mimetype": "text/x-python",
   "name": "python",
   "nbconvert_exporter": "python",
   "pygments_lexer": "ipython3",
   "version": "3.8.8"
  }
 },
 "nbformat": 4,
 "nbformat_minor": 5
}
