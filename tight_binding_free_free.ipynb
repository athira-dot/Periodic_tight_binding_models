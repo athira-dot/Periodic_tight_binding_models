{
  "nbformat": 4,
  "nbformat_minor": 0,
  "metadata": {
    "colab": {
      "name": "tight_binding_free_free.ipynb",
      "provenance": [],
      "collapsed_sections": []
    },
    "kernelspec": {
      "name": "python3",
      "display_name": "Python 3"
    },
    "language_info": {
      "name": "python"
    }
  },
  "cells": [
    {
      "cell_type": "markdown",
      "metadata": {
        "id": "v559147_Y98C"
      },
      "source": [
        "#### Code to find the energy eigen values of periodic tight binding model with free-free boundary conditions in 1D,2D and 3D using chebyshev approximation for k-toeplitz matrices"
      ]
    },
    {
      "cell_type": "code",
      "metadata": {
        "id": "hlyNWhu8ZOIW"
      },
      "source": [
        "#Importing required libraries\n",
        "import numpy as np\n",
        "import scipy.linalg as sc\n",
        "import matplotlib.pyplot as plt\n",
        "import cmath\n",
        "import warnings\n",
        "warnings.filterwarnings(\"ignore\")"
      ],
      "execution_count": 1,
      "outputs": []
    },
    {
      "cell_type": "code",
      "metadata": {
        "id": "r-v23stdIMhm"
      },
      "source": [
        "def k_toeplitz_matrix(diag_k,u_k,l_k,t):\n",
        "  '''function for creating the k-toeplitz matrix when diagonal,upper diagonal and lower diagonal entries are given'''\n",
        "  #k - chain length\n",
        "  #one chain of diagonal -diag_k\n",
        "  k=np.size(diag_k)\n",
        "  n=int(k*t)\n",
        "  diag=[]\n",
        "\n",
        "  for i in range(t):\n",
        "    diag=np.concatenate((diag,diag_k))\n",
        "\n",
        "  A=np.diag(diag)  #k_toeplitz matrix we want to create\n",
        "\n",
        "# creating upper diagonal entries\n",
        "\n",
        "  upper_diag=[]\n",
        "  for i in range(t):\n",
        "    upper_diag=np.concatenate((upper_diag,u_k))\n",
        "  upper_diag=upper_diag[:n-1]\n",
        "\n",
        "# creating lower diagonal entries\n",
        "\n",
        "  lower_diag=[]\n",
        "  for i in range(t):\n",
        "    lower_diag=np.concatenate((lower_diag,l_k))\n",
        "  lower_diag=lower_diag[:n-1]\n",
        "\n",
        "#FILLING UPPER DIAGONAL\n",
        "\n",
        "  for i in range(n-1):\n",
        "    A[i][i+1]=upper_diag[i]\n",
        "\n",
        "#FILLING LOWER DIAGONAL\n",
        "\n",
        "  for i in range(n-1):\n",
        "    A[i+1][i]=lower_diag[i]\n",
        "\n",
        "\n",
        "  #return k-toeplitz matrix\n",
        "  return(A)\n",
        "  "
      ],
      "execution_count": 2,
      "outputs": []
    },
    {
      "cell_type": "code",
      "metadata": {
        "id": "8ZAELNJsRaJd"
      },
      "source": [
        "def qgamma(diag_k,u_k,l_k,k):    \n",
        "  '''Function to find gamma  and  Qk(z)'''\n",
        "\n",
        "  a=diag_k\n",
        "  p=np.multiply(u_k,l_k)\n",
        "  Aim11 =1\n",
        "  Aim12 =0\n",
        "  Aim13 =0\n",
        "  Aim14 =1\n",
        "  for i in range(k):\n",
        "    Ai1 = [1,a[i]]\n",
        "    Ai2 = [0,-p[i]]\n",
        "    Ai3 = [0,1]\n",
        "    Ai4 =  [0,0]\n",
        "    P1 = np.convolve(Aim11,Ai1) +np.convolve(Aim12,Ai3)\n",
        "    P2 = np.convolve(Aim11,Ai2) +np.convolve(Aim12,Ai4)\n",
        "    P3 = np.convolve(Aim13,Ai1) +np.convolve(Aim14,Ai3)\n",
        "    P4 = np.convolve(Aim13,Ai2) +np.convolve(Aim14,Ai4)\n",
        "    Aim11 = P1\n",
        "    Aim12 = P2\n",
        "    Aim13 = P3\n",
        "    Aim14 = P4\n",
        "    #print(P1,P2,P3,P4)\n",
        "    \n",
        "  q=P1+P4  #trace of Uk\n",
        "  gamma1=-np.prod(p)  #gamma1 is the negative of the determinant of Uk\n",
        "  P4=np.array(P4)\n",
        "  #return gamma  and  Qk(z)\n",
        "  return(q,gamma1)"
      ],
      "execution_count": 3,
      "outputs": []
    },
    {
      "cell_type": "code",
      "metadata": {
        "id": "Yn6imfwZRcGc"
      },
      "source": [
        "def chebeig(diag_k,u_k,l_k,k,t):   \n",
        "  '''function to calculate k-toeplitz eigenvalues using chebyshev approximation '''   \n",
        "  n=int(k*t)\n",
        "  q,g=qgamma(diag_k,u_k,l_k,k) #g represent gamma and q for Qk(z)\n",
        "  #print(diag_k)\n",
        "  q=np.array(q,dtype=\"complex\")\n",
        "  #print(q,g)\n",
        "  tnroots=np.zeros(int(n/k),dtype=np.complex)\n",
        "  for l in range(1,int(n/k)+1):\n",
        "    tnroots[l-1]=1j*2*np.cos(np.pi/((n/k)+1)*(l))\n",
        "  #print(tnroots)\n",
        "  zcheb = []  #upto this fine\n",
        "  c0=q[k]\n",
        "  for i in range(int(n/k)):\n",
        "    q[k]=c0+((cmath.sqrt(g))*tnroots[i])\n",
        "    \n",
        "    zcheb=np.concatenate((zcheb,-np.roots(q)))  \n",
        "  \n",
        "  #return approximated eigen values\n",
        "  return(zcheb)"
      ],
      "execution_count": 16,
      "outputs": []
    },
    {
      "cell_type": "code",
      "metadata": {
        "colab": {
          "base_uri": "https://localhost:8080/"
        },
        "id": "qxhRdmSHRns-",
        "outputId": "c91426b4-6ab0-403d-b9cc-ccfa881f9092"
      },
      "source": [
        "#instructions for the user\n",
        "d=int(input(\"Enter the dimension of the lattice= \")) #Either 1,2 or 3\n",
        "#Dimension of the lattice is same as the no of tridiagonal matrices should be created"
      ],
      "execution_count": 17,
      "outputs": [
        {
          "name": "stdout",
          "output_type": "stream",
          "text": [
            "Enter the dimension of the lattice= 3\n"
          ]
        }
      ]
    },
    {
      "cell_type": "code",
      "metadata": {
        "id": "H5wigDPERvBA",
        "colab": {
          "base_uri": "https://localhost:8080/",
          "height": 329
        },
        "outputId": "af012a5d-7f18-49db-d174-6e8bfc91e6c9"
      },
      "source": [
        "#Energy spectrum of 1D lattice\n",
        "\n",
        "if(d==1):\n",
        "  #k=int(input(\"length of the chain\"))   \n",
        "  t=int(input(\"number of chains to be repeated= \"))\n",
        "\n",
        "  hop=np.loadtxt(\"hopping1.txt\") \n",
        "  k=len(hop)\n",
        "  diag_k=np.loadtxt(\"onsite_energy1.txt\")   #diagonal entries\n",
        "  u_k=-hop        #upper diagonal\n",
        "  l_k=-hop        #lower diagonal\n",
        "  A=k_toeplitz_matrix(diag_k,u_k,l_k,t)\n",
        "\n",
        "  result=sc.eig(A)\n",
        "  e1=result[0]\n",
        "\n",
        "  zcheb1=chebeig(diag_k,u_k,l_k,k,t)        #eigen values of the matrix is approximated to chebyshev polynomials\n",
        "  \n",
        "  plt.plot(zcheb1.real,zcheb1.imag,\"*\",color=\"green\",label=\"zcheb approximation\")\n",
        "  plt.legend()\n",
        "  plt.title(\"Energy spectrum of tight binding model in 1D with free-free boundary condition\")\n",
        "  plt.xlabel(\"real part of energy\")\n",
        "  plt.ylabel(\"imaginary part of energy\")\n",
        "  plt.show()"
      ],
      "execution_count": 6,
      "outputs": [
        {
          "output_type": "stream",
          "name": "stdout",
          "text": [
            "number of chains to be repeated= 4\n",
            "(12,)\n"
          ]
        },
        {
          "output_type": "display_data",
          "data": {
            "text/plain": [
              "<Figure size 432x288 with 1 Axes>"
            ],
            "image/png": "[encoded data removed]"
          },
          "metadata": {
            "needs_background": "light"
          }
        }
      ]
    },
    {
      "cell_type": "code",
      "metadata": {
        "id": "OgQJEpKqR2WD"
      },
      "source": [
        "#Energy spectrum of 2D lattice- both square and rectangular lattice can be created\n",
        "if(d==2):\n",
        "  #k1=int(input(\"length of the x-chain\"))\n",
        "  t1=int(input(\"number of x-chains to be repeated= \"))\n",
        "  #k2=int(input(\"length of the y-chain\"))\n",
        "  t2=int(input(\"number of y-chains to be repeated=\"))\n",
        "\n",
        "  hop1=np.loadtxt(\"hopping1.txt\") #hopping chain for x direction\n",
        "  hop2=np.loadtxt(\"hopping2.txt\") #hopping chain for y direction\n",
        "  k1=len(hop1)  #length of the chain in x direction\n",
        "  k2=len(hop2)  #length of the chain in y direction\n",
        "  #onsite energies are the diagonal  entries\n",
        "  diag_k1=np.loadtxt(\"onsite_energy1.txt\")   #onsite energy for x direction\n",
        "  diag_k2=np.loadtxt(\"onsite_energy2.txt\")   #onsite energy for y direction\n",
        "\n",
        "  u_k1=-hop1        #upper diagonal for x chain\n",
        "  l_k1=-hop1        #lower diagonal for x chain\n",
        "  u_k2=-hop2        #upper diagonal for x chain\n",
        "  l_k2=-hop2        #lower diagonal for x chain\n",
        "\n",
        "  A=k_toeplitz_matrix(diag_k1,u_k1,l_k1,t1)  #tight binding hamiltonian matrix of x chain\n",
        "  B=k_toeplitz_matrix(diag_k2,u_k2,l_k2,t2)  #tight binding hamiltonian matrix of y chain\n",
        "\n",
        "  result1=sc.eig(A)\n",
        "  e1=result1[0]    #Energy eigen values by python inbuilt functions for x chain\n",
        "\n",
        "  result2=sc.eig(B)\n",
        "  e2=result2[0]    #Energy eigen values by python inbuilt functions for y chain\n",
        "\n",
        "  zcheb1=chebeig(diag_k1,u_k1,l_k1,k1,t1)      #eigen values of the matrix is approximated to chebyshev polynomials\n",
        "  \n",
        "  \n",
        "\n",
        "  zcheb2=chebeig(diag_k2,u_k2,l_k2,k2,t2)       #eigen values of the matrix is approximated to chebyshev polynomials\n",
        "  \n",
        " \n",
        "  # 2D lattice \n",
        "  n1=int(k1*t1)  #size of the x chain\n",
        "  n2=int(k2*t2)  #size of the y chain\n",
        "\n",
        "  #Eigen values of the lattice as the kronecker sum\n",
        "  z =np.kron(zcheb1,np.ones(n2))+np.kron(np.ones(n1),zcheb2)\n",
        "  plt.plot(z.real,z.imag,\"*\")\n",
        "  plt.xlabel(\"real part of energy eigen value\")\n",
        "  plt.ylabel(\"imaginary part of energy eigen value\")\n",
        "  plt.title(\"Energies of tight binding model in 2D lattice formed by x directional and y directional chains with free-free boundary conditio\")\n",
        "  plt.show()"
      ],
      "execution_count": 14,
      "outputs": []
    },
    {
      "cell_type": "code",
      "metadata": {
        "id": "9ICGZn1dSDPI",
        "colab": {
          "base_uri": "https://localhost:8080/",
          "height": 346
        },
        "outputId": "625b7738-b5f4-484f-88ee-5b7bb9f3b5a9"
      },
      "source": [
        "#3D lattice- cubic,tetragonal and orthorhombic can be created\n",
        "if(d==3):\n",
        "  #k1=int(input(\"length of the x-chain \"))\n",
        "  t1=int(input(\"number of x-chains to be repeated= \"))\n",
        "  #k2=int(input(\"length of the y-chain\"))\n",
        "  t2=int(input(\"number of y-chains to be repeated= \"))\n",
        "  #k3=int(input(\"length of the z-chain\"))\n",
        "  t3=int(input(\"number of z-chains to be repeated= \"))\n",
        "\n",
        "  hop1=np.loadtxt(\"hopping1.txt\") #hopping chain for x direction\n",
        "  hop2=np.loadtxt(\"hopping2.txt\") #hopping chain for y direction\n",
        "  hop3=np.loadtxt(\"hopping3.txt\") #hopping chain for z direction\n",
        "\n",
        "  k1=len(hop) #length of the chain in x direction\n",
        "  k2=len(hop) #length of the chain in y direction\n",
        "  k3=len(hop) #length of the chain in z direction\n",
        "\n",
        "  #onsite energy as the diagonal term\n",
        "  diag_k1=np.loadtxt(\"onsite_energy1.txt\")   #diagonal entries of the x chain\n",
        "  diag_k2=np.loadtxt(\"onsite_energy2.txt\")   #diagonal entries of the y chain\n",
        "  diag_k3=np.loadtxt(\"onsite_energy3.txt\")   #diagonal entries of the z chain\n",
        "  \n",
        "  #hopping term as the upper and lower diagonal\n",
        "  u_k1=-hop1        #upper diagonal for x chain\n",
        "  l_k1=-hop1        #lower diagonal for x chain\n",
        "  u_k2=-hop2        #upper diagonal for y chain\n",
        "  l_k2=-hop2        #lower diagonal for y chain\n",
        "  u_k3=-hop3        #upper diagonal for z chain\n",
        "  l_k3=-hop3        #lower diagonal for z chain\n",
        "\n",
        "  A=k_toeplitz_matrix(diag_k1,u_k1,l_k1,t1)  #tight binding hamiltonian matrix of x chain\n",
        "  B=k_toeplitz_matrix(diag_k2,u_k2,l_k2,t2)  #tight binding hamiltonian matrix of y chain\n",
        "  C=k_toeplitz_matrix(diag_k3,u_k3,l_k3,t3)  #tight binding hamiltonian matrix of z chain\n",
        "\n",
        "  result1=sc.eig(A)\n",
        "  e1=result1[0]  #Energy eigen values by python inbuilt functions for x chain\n",
        "\n",
        "  result2=sc.eig(B)\n",
        "  e2=result2[0]  #Energy eigen values by python inbuilt functions for y chain\n",
        "\n",
        "  result3=sc.eig(C)\n",
        "  e3=result3[0]  #Energy eigen values by python inbuilt functions for z chain\n",
        "\n",
        "  zcheb1=chebeig(diag_k1,u_k1,l_k1,k1,t1)  #eigen values of the matrix is approximated to chebyshev polynomials\n",
        "  \n",
        "\n",
        "  zcheb2=chebeig(diag_k2,u_k2,l_k2,k2,t2)  #eigen values of the matrix is approximated to chebyshev polynomials\n",
        "  \n",
        " \n",
        "  zcheb3=chebeig(diag_k3,u_k3,l_k3,k3,t3)  #eigen values of the matrix is approximated to chebyshev polynomials\n",
        "  \n",
        "\n",
        "  #3D lattice\n",
        "  n1=int(k1*t1)  #size of the x chain\n",
        "  n2=int(k2*t2)  #size of the y chain\n",
        "  n3=int(k3*t3)  #size of the z chain\n",
        "\n",
        "  #Eigen values of the lattice as the kronecker sum\n",
        "  z1=np.kron(np.kron(zcheb1,np.ones(n2)),np.ones(n3))\n",
        "  z2=np.kron(np.kron(np.ones(n1),zcheb2),np.ones(n3))\n",
        "  z3=np.kron(np.kron(np.ones(n1),np.ones(n2)),zcheb3)\n",
        "  z=z1+z2+z3\n",
        "  #print(np.shape(z2))\n",
        "  plt.plot(z.real,z.imag,\"*\")\n",
        "  plt.xlabel(\"real part of energy eigen value\")\n",
        "  plt.ylabel(\"imaginary part of energy  eigen value\")\n",
        "  plt.title(\"Energy spectrum of tight binding model in 3D with free-free boundary condition\")\n",
        "  plt.show()"
      ],
      "execution_count": 19,
      "outputs": [
        {
          "name": "stdout",
          "output_type": "stream",
          "text": [
            "number of x-chains to be repeated= 2\n",
            "number of y-chains to be repeated= 3\n",
            "number of z-chains to be repeated= 4\n"
          ]
        },
        {
          "output_type": "display_data",
          "data": {
            "text/plain": [
              "<Figure size 432x288 with 1 Axes>"
            ],
            "image/png": "[encoded data removed]"
          },
          "metadata": {
            "needs_background": "light"
          }
        }
      ]
    }
  ]
}